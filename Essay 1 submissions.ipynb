{
 "cells": [
  {
   "cell_type": "markdown",
   "metadata": {},
   "source": [
    "# Did Mace's TA group hand in more essays than other groups?\n",
    "\n",
    "A statistical analysis if Mace's TA group handed in more essays than the other groups.\n",
    "\n",
    "There are total 165 students, and they are assumed to be uniformly, and randomly distributed across the four TA groups.\n",
    "\n",
    "Submission is a binomial variable, is assumed to an independent."
   ]
  },
  {
   "cell_type": "code",
   "execution_count": 1,
   "metadata": {
    "collapsed": true
   },
   "outputs": [],
   "source": [
    "from math import sqrt\n",
    "import scipy.stats"
   ]
  },
  {
   "cell_type": "markdown",
   "metadata": {},
   "source": [
    "## Data"
   ]
  },
  {
   "cell_type": "code",
   "execution_count": 2,
   "metadata": {
    "collapsed": true
   },
   "outputs": [],
   "source": [
    "dimga = {'noStudents': 165,\n",
    "         'essayGroups': {\n",
    "             'ta0': 2,\n",
    "             'ta1': 4,\n",
    "             'mace': 8,\n",
    "             'ta3': 3}\n",
    "        }"
   ]
  },
  {
   "cell_type": "code",
   "execution_count": 3,
   "metadata": {
    "collapsed": false
   },
   "outputs": [
    {
     "name": "stdout",
     "output_type": "stream",
     "text": [
      "ta0 4.85 %\n",
      "ta1 9.7 %\n",
      "mace 19.39 %\n",
      "ta3 7.27 %\n"
     ]
    },
    {
     "data": {
      "text/plain": [
       "[None, None, None, None]"
      ]
     },
     "execution_count": 3,
     "metadata": {},
     "output_type": "execute_result"
    }
   ],
   "source": [
    "[print(ta, round(dimga['essayGroups'][ta] / (dimga[\"noStudents\"] / len(dimga[\"essayGroups\"])) * 100, 2), \"%\") for ta in dimga[\"essayGroups\"]]"
   ]
  },
  {
   "cell_type": "markdown",
   "metadata": {},
   "source": [
    "## Formalizing the problem\n",
    "\n",
    "Now, testing for the one-tailed statistical difference: was other TA's $n_o$ students overtaken by Mace's $n_m$ students?\n",
    "\n",
    "Let the null hypothesis $H_0$ be that there is no difference, and the alternative hypothesis $H_a$ be that Mace's submitted more. Formally $H_0 : p_o = p_m$, and $H_a : p_o < p_m$.\n",
    "\n",
    "$z = \\frac{\\hat{p}_1 - \\hat{p}_2}{\\sqrt{\\hat{p} (1 - \\hat{p})(\\frac{1}{n_1} + \\frac{1}{n_2})}}$\n",
    "\n",
    "where\n",
    "\n",
    "$\\hat{p} = \\frac{n_1\\hat{p}_1 + n_2\\hat{p}_2}{n_1 + n_2}$."
   ]
  },
  {
   "cell_type": "markdown",
   "metadata": {},
   "source": [
    "## Calculating the test statistic $z$\n",
    "\n",
    "Calculate the sizes of groups of other TA's $n_o$ students and Mace's $n_m$ students, and their ratios of submission $p_o$ and $p_m$ respectively."
   ]
  },
  {
   "cell_type": "code",
   "execution_count": 4,
   "metadata": {
    "collapsed": false
   },
   "outputs": [],
   "source": [
    "n_o = (dimga['noStudents'] / (len(dimga['essayGroups']))) * 3\n",
    "n_m = dimga['noStudents'] / len(dimga['essayGroups'])\n",
    "p_o = sum([dimga['essayGroups'][ta] for ta in ['ta0', 'ta1', 'ta3']]) / n_o\n",
    "p_m = dimga['essayGroups']['mace'] / n_m"
   ]
  },
  {
   "cell_type": "code",
   "execution_count": 5,
   "metadata": {
    "collapsed": false
   },
   "outputs": [
    {
     "data": {
      "text/plain": [
       "(123.75, 41.25, 0.07272727272727272, 0.19393939393939394)"
      ]
     },
     "execution_count": 5,
     "metadata": {},
     "output_type": "execute_result"
    }
   ],
   "source": [
    "n_o, n_m, p_o, p_m"
   ]
  },
  {
   "cell_type": "markdown",
   "metadata": {},
   "source": [
    "Calculate $\\hat{p}$."
   ]
  },
  {
   "cell_type": "code",
   "execution_count": 6,
   "metadata": {
    "collapsed": false
   },
   "outputs": [
    {
     "data": {
      "text/plain": [
       "0.10303030303030303"
      ]
     },
     "execution_count": 6,
     "metadata": {},
     "output_type": "execute_result"
    }
   ],
   "source": [
    "phat = ((n_o*p_o) + (n_m*p_m)) / (n_o + n_m)\n",
    "phat"
   ]
  },
  {
   "cell_type": "markdown",
   "metadata": {},
   "source": [
    "Calculate test statistic $z$."
   ]
  },
  {
   "cell_type": "code",
   "execution_count": 7,
   "metadata": {
    "collapsed": false
   },
   "outputs": [
    {
     "data": {
      "text/plain": [
       "2.2177739881780356"
      ]
     },
     "execution_count": 7,
     "metadata": {},
     "output_type": "execute_result"
    }
   ],
   "source": [
    "z = (p_m - p_o) / sqrt(phat * (1 - phat) * ((1/n_o) + (1/n_m)))\n",
    "z"
   ]
  },
  {
   "cell_type": "markdown",
   "metadata": {},
   "source": [
    "## Hypothesis test results\n",
    "\n",
    "We choose to accept at the 95% confidence level. One-tailed, $\\alpha = 0.05 / 2 = 0.025$. From the [z-table](http://www.statisticshowto.com/tables/z-table/) we can look up critical value for $0.5 - 0.025 = 0.4750$, and retrieve $z_\\alpha$ = 1.9."
   ]
  },
  {
   "cell_type": "code",
   "execution_count": 8,
   "metadata": {
    "collapsed": true
   },
   "outputs": [],
   "source": [
    "z_a = 1.9"
   ]
  },
  {
   "cell_type": "markdown",
   "metadata": {},
   "source": [
    "$H_0$ there is no difference between Mace's groups and other TA groups; $H_a$ Mace's students handed in more."
   ]
  },
  {
   "cell_type": "code",
   "execution_count": 9,
   "metadata": {
    "collapsed": false
   },
   "outputs": [
    {
     "name": "stdout",
     "output_type": "stream",
     "text": [
      "reject the null hypothesis\n"
     ]
    }
   ],
   "source": [
    "if (z > z_a):\n",
    "    print(\"reject the null hypothesis\")\n",
    "else:\n",
    "    print(\"retain the null hypothesis\")"
   ]
  },
  {
   "cell_type": "markdown",
   "metadata": {},
   "source": [
    "##  Calculate using scipy\n",
    "\n",
    "An alternative way to calculate the same statistic, using scipy."
   ]
  },
  {
   "cell_type": "code",
   "execution_count": 11,
   "metadata": {
    "collapsed": false
   },
   "outputs": [],
   "source": [
    "(ratio, pvalue) = scipy.stats.fisher_exact([\n",
    "    [n_o - 9, n_m - dimga['essayGroups']['mace']],\n",
    "    [9, dimga['essayGroups']['mace']]], 'greater')"
   ]
  },
  {
   "cell_type": "markdown",
   "metadata": {},
   "source": [
    "$H_0$ there is no difference between Mace's groups and other TA groups; $H_a$ Mace's students handed in more."
   ]
  },
  {
   "cell_type": "code",
   "execution_count": 12,
   "metadata": {
    "collapsed": false
   },
   "outputs": [
    {
     "name": "stdout",
     "output_type": "stream",
     "text": [
      "reject the null hypothesis\n"
     ]
    }
   ],
   "source": [
    "if pvalue < 0.05:\n",
    "    print(\"reject the null hypothesis\")\n",
    "else:\n",
    "    print(\"retain the null hypothesis\")"
   ]
  }
 ],
 "metadata": {
  "kernelspec": {
   "display_name": "Python 3",
   "language": "python",
   "name": "python3"
  },
  "language_info": {
   "codemirror_mode": {
    "name": "ipython",
    "version": 3
   },
   "file_extension": ".py",
   "mimetype": "text/x-python",
   "name": "python",
   "nbconvert_exporter": "python",
   "pygments_lexer": "ipython3",
   "version": "3.6.0"
  }
 },
 "nbformat": 4,
 "nbformat_minor": 2
}
